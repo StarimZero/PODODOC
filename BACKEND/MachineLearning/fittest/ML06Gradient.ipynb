{
 "cells": [
  {
   "cell_type": "code",
   "execution_count": 1,
   "metadata": {},
   "outputs": [
    {
     "name": "stdout",
     "output_type": "stream",
     "text": [
      "Mean Squared Error: 0.040233572108812954\n",
      "R^2 Score: 0.407309520322619\n",
      "Predicted Wine Score: 3.855766531105602\n"
     ]
    }
   ],
   "source": [
    "import pandas as pd\n",
    "from sklearn.model_selection import train_test_split\n",
    "from sklearn.preprocessing import StandardScaler, OneHotEncoder\n",
    "from sklearn.compose import ColumnTransformer\n",
    "from sklearn.ensemble import GradientBoostingRegressor\n",
    "from sklearn.metrics import mean_squared_error, r2_score\n",
    "from sklearn.pipeline import Pipeline\n",
    "\n",
    "# 1. 데이터 로드\n",
    "data = pd.read_csv('../data/Clean_White_data.csv')\n",
    "\n",
    "# 2. 데이터 전처리\n",
    "# 필요한 컬럼 선택\n",
    "features = data[['body', 'texture', 'sweetness', 'flavor1', 'flavor2', 'flavor3']]\n",
    "target = data['wine_rating']\n",
    "\n",
    "# 범주형 데이터 전처리 및 전처리 파이프라인 생성\n",
    "preprocessor = ColumnTransformer(\n",
    "    transformers=[\n",
    "        ('cat', OneHotEncoder(drop='first', sparse_output=False), ['flavor1', 'flavor2', 'flavor3'])\n",
    "    ],\n",
    "    remainder='passthrough'\n",
    ")\n",
    "\n",
    "# 파이프라인 정의\n",
    "pipeline = Pipeline(steps=[\n",
    "    ('preprocessor', preprocessor),\n",
    "    ('scaler', StandardScaler()),  # 스케일링\n",
    "    ('model', GradientBoostingRegressor(n_estimators=100, learning_rate=0.1, random_state=42))\n",
    "])\n",
    "\n",
    "# 3. 데이터 분할\n",
    "X_train, X_test, y_train, y_test = train_test_split(features, target, test_size=0.2, random_state=42)\n",
    "\n",
    "# 4. 모델 학습\n",
    "pipeline.fit(X_train, y_train)\n",
    "\n",
    "# 5. 평가\n",
    "y_pred = pipeline.predict(X_test)\n",
    "mse = mean_squared_error(y_test, y_pred)\n",
    "r2 = r2_score(y_test, y_pred)\n",
    "\n",
    "print(f'Mean Squared Error: {mse}')\n",
    "print(f'R^2 Score: {r2}')\n",
    "\n",
    "# 6. 예측 함수\n",
    "def predict_wine_score(body, texture, sweetness, flavor1, flavor2, flavor3):\n",
    "    # 입력 데이터 전처리\n",
    "    input_data = pd.DataFrame([[body, texture, sweetness, flavor1, flavor2, flavor3]],\n",
    "                              columns=['body', 'texture', 'sweetness', 'flavor1', 'flavor2', 'flavor3'])\n",
    "    \n",
    "    # 예측\n",
    "    score = pipeline.predict(input_data)\n",
    "    return score[0]\n",
    "\n",
    "# 임의의 데이터로 예측\n",
    "example_score = predict_wine_score(85, 40, 55, 'oaky', 'tree fruit', 'citrus')\n",
    "print(f'Predicted Wine Score: {example_score}')\n"
   ]
  }
 ],
 "metadata": {
  "kernelspec": {
   "display_name": "Python 3",
   "language": "python",
   "name": "python3"
  },
  "language_info": {
   "codemirror_mode": {
    "name": "ipython",
    "version": 3
   },
   "file_extension": ".py",
   "mimetype": "text/x-python",
   "name": "python",
   "nbconvert_exporter": "python",
   "pygments_lexer": "ipython3",
   "version": "3.12.2"
  }
 },
 "nbformat": 4,
 "nbformat_minor": 2
}
