{
 "cells": [
  {
   "cell_type": "code",
   "execution_count": 1,
   "metadata": {},
   "outputs": [
    {
     "name": "stdout",
     "output_type": "stream",
     "text": [
      "Mean Squared Error: 0.09273686477174845\n",
      "R^2 Score: -0.36612917979769355\n",
      "Predicted Wine Score: 4.6\n"
     ]
    },
    {
     "name": "stderr",
     "output_type": "stream",
     "text": [
      "C:\\Users\\KOSMO\\AppData\\Local\\Temp\\ipykernel_12528\\2306701315.py:19: SettingWithCopyWarning: \n",
      "A value is trying to be set on a copy of a slice from a DataFrame.\n",
      "Try using .loc[row_indexer,col_indexer] = value instead\n",
      "\n",
      "See the caveats in the documentation: https://pandas.pydata.org/pandas-docs/stable/user_guide/indexing.html#returning-a-view-versus-a-copy\n",
      "  features[col] = label_encoders[col].fit_transform(features[col])\n",
      "C:\\Users\\KOSMO\\AppData\\Local\\Temp\\ipykernel_12528\\2306701315.py:19: SettingWithCopyWarning: \n",
      "A value is trying to be set on a copy of a slice from a DataFrame.\n",
      "Try using .loc[row_indexer,col_indexer] = value instead\n",
      "\n",
      "See the caveats in the documentation: https://pandas.pydata.org/pandas-docs/stable/user_guide/indexing.html#returning-a-view-versus-a-copy\n",
      "  features[col] = label_encoders[col].fit_transform(features[col])\n",
      "C:\\Users\\KOSMO\\AppData\\Local\\Temp\\ipykernel_12528\\2306701315.py:19: SettingWithCopyWarning: \n",
      "A value is trying to be set on a copy of a slice from a DataFrame.\n",
      "Try using .loc[row_indexer,col_indexer] = value instead\n",
      "\n",
      "See the caveats in the documentation: https://pandas.pydata.org/pandas-docs/stable/user_guide/indexing.html#returning-a-view-versus-a-copy\n",
      "  features[col] = label_encoders[col].fit_transform(features[col])\n"
     ]
    }
   ],
   "source": [
    "import pandas as pd\n",
    "from sklearn.model_selection import train_test_split\n",
    "from sklearn.preprocessing import StandardScaler, LabelEncoder\n",
    "from sklearn.tree import DecisionTreeRegressor\n",
    "from sklearn.metrics import mean_squared_error, r2_score\n",
    "\n",
    "# 1. 데이터 로드\n",
    "data = pd.read_csv('../data/Clean_White_data.csv')\n",
    "\n",
    "# 2. 데이터 전처리\n",
    "# 필요한 컬럼 선택\n",
    "features = data[['body', 'texture', 'sweetness', 'flavor1', 'flavor2', 'flavor3']]\n",
    "target = data['wine_rating']\n",
    "\n",
    "# 범주형 데이터 전처리\n",
    "label_encoders = {}\n",
    "for col in ['flavor1', 'flavor2', 'flavor3']:\n",
    "    label_encoders[col] = LabelEncoder()\n",
    "    features[col] = label_encoders[col].fit_transform(features[col])\n",
    "\n",
    "# 데이터 정규화\n",
    "scaler = StandardScaler()\n",
    "features_scaled = scaler.fit_transform(features)\n",
    "\n",
    "# 3. 데이터 분할\n",
    "X_train, X_test, y_train, y_test = train_test_split(features_scaled, target, test_size=0.2, random_state=42)\n",
    "\n",
    "# 4. 모델 정의 및 학습\n",
    "model = DecisionTreeRegressor(random_state=42)\n",
    "model.fit(X_train, y_train)\n",
    "\n",
    "# 5. 평가\n",
    "y_pred = model.predict(X_test)\n",
    "mse = mean_squared_error(y_test, y_pred)\n",
    "r2 = r2_score(y_test, y_pred)\n",
    "\n",
    "print(f'Mean Squared Error: {mse}')\n",
    "print(f'R^2 Score: {r2}')\n",
    "\n",
    "# 6. 예측\n",
    "def predict_wine_score(body, texture, sweetness, flavor1, flavor2, flavor3):\n",
    "    # 입력 데이터 전처리\n",
    "    input_data = pd.DataFrame([[body, texture, sweetness, flavor1, flavor2, flavor3]],\n",
    "                              columns=['body', 'texture', 'sweetness', 'flavor1', 'flavor2', 'flavor3'])\n",
    "    input_data_encoded = input_data.copy()\n",
    "    \n",
    "    # 범주형 데이터 인코딩\n",
    "    for col in ['flavor1', 'flavor2', 'flavor3']:\n",
    "        if flavor1 in label_encoders[col].classes_:\n",
    "            input_data_encoded[col] = label_encoders[col].transform(input_data_encoded[col])\n",
    "        else:\n",
    "            raise ValueError(f\"Value '{input_data[col].values[0]}' is not in the label encoder for {col}\")\n",
    "\n",
    "    # 데이터 정규화\n",
    "    input_data_scaled = scaler.transform(input_data_encoded)\n",
    "    \n",
    "    # 예측\n",
    "    score = model.predict(input_data_scaled)\n",
    "    return score[0]\n",
    "\n",
    "# 임의의 데이터로 예측\n",
    "example_score = predict_wine_score(85, 40, 55, 'oaky', 'tree fruit', 'citrus')\n",
    "print(f'Predicted Wine Score: {example_score}')\n"
   ]
  }
 ],
 "metadata": {
  "kernelspec": {
   "display_name": "Python 3",
   "language": "python",
   "name": "python3"
  },
  "language_info": {
   "codemirror_mode": {
    "name": "ipython",
    "version": 3
   },
   "file_extension": ".py",
   "mimetype": "text/x-python",
   "name": "python",
   "nbconvert_exporter": "python",
   "pygments_lexer": "ipython3",
   "version": "3.12.2"
  }
 },
 "nbformat": 4,
 "nbformat_minor": 2
}
